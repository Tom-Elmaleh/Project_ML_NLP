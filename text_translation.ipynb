{
 "cells": [
  {
   "cell_type": "code",
   "execution_count": null,
   "metadata": {},
   "outputs": [],
   "source": [
    "%pip install transformers"
   ]
  },
  {
   "cell_type": "code",
   "execution_count": 1,
   "metadata": {},
   "outputs": [],
   "source": [
    "from transformers import pipeline\n",
    "import pandas as pd"
   ]
  },
  {
   "cell_type": "code",
   "execution_count": 3,
   "metadata": {},
   "outputs": [
    {
     "name": "stderr",
     "output_type": "stream",
     "text": [
      "No model was supplied, defaulted to t5-base and revision 686f1db (https://huggingface.co/t5-base).\n",
      "Using a pipeline without specifying a model name and revision in production is not recommended.\n"
     ]
    },
    {
     "data": {
      "application/vnd.jupyter.widget-view+json": {
       "model_id": "7a7ef6fe139b45968a61170cc4ff774a",
       "version_major": 2,
       "version_minor": 0
      },
      "text/plain": [
       "Downloading config.json:   0%|          | 0.00/1.21k [00:00<?, ?B/s]"
      ]
     },
     "metadata": {},
     "output_type": "display_data"
    },
    {
     "data": {
      "application/vnd.jupyter.widget-view+json": {
       "model_id": "25dafdbe59b74e9da59eafdcbf1b101c",
       "version_major": 2,
       "version_minor": 0
      },
      "text/plain": [
       "Downloading model.safetensors:   0%|          | 0.00/892M [00:00<?, ?B/s]"
      ]
     },
     "metadata": {},
     "output_type": "display_data"
    },
    {
     "data": {
      "application/vnd.jupyter.widget-view+json": {
       "model_id": "af266a304e65406a91974a2c486d925b",
       "version_major": 2,
       "version_minor": 0
      },
      "text/plain": [
       "Downloading generation_config.json:   0%|          | 0.00/147 [00:00<?, ?B/s]"
      ]
     },
     "metadata": {},
     "output_type": "display_data"
    },
    {
     "data": {
      "application/vnd.jupyter.widget-view+json": {
       "model_id": "89da3d5ba0fd4651b97efc76d51cf128",
       "version_major": 2,
       "version_minor": 0
      },
      "text/plain": [
       "Downloading spiece.model:   0%|          | 0.00/792k [00:00<?, ?B/s]"
      ]
     },
     "metadata": {},
     "output_type": "display_data"
    },
    {
     "data": {
      "application/vnd.jupyter.widget-view+json": {
       "model_id": "5c6b3082ea72425f9f3e740a8452c38d",
       "version_major": 2,
       "version_minor": 0
      },
      "text/plain": [
       "Downloading tokenizer.json:   0%|          | 0.00/1.39M [00:00<?, ?B/s]"
      ]
     },
     "metadata": {},
     "output_type": "display_data"
    },
    {
     "name": "stderr",
     "output_type": "stream",
     "text": [
      "/Library/Frameworks/Python.framework/Versions/3.11/lib/python3.11/site-packages/transformers/models/t5/tokenization_t5_fast.py:160: FutureWarning: This tokenizer was incorrectly instantiated with a model max length of 512 which will be corrected in Transformers v5.\n",
      "For now, this behavior is kept to avoid breaking backwards compatibility when padding/encoding with `truncation is True`.\n",
      "- Be aware that you SHOULD NOT rely on t5-base automatically truncating your input to 512 when padding/encoding.\n",
      "- If you want to encode/pad to sequences longer than 512 you can either instantiate this tokenizer with `model_max_length` or pass `max_length` when encoding/padding.\n",
      "- To avoid this warning, please instantiate this tokenizer with `model_max_length` set to your preferred value.\n",
      "  warnings.warn(\n"
     ]
    }
   ],
   "source": [
    "translation_pipeline = pipeline('translation_en_to_fr')"
   ]
  },
  {
   "cell_type": "code",
   "execution_count": 4,
   "metadata": {},
   "outputs": [
    {
     "data": {
      "text/html": [
       "<div>\n",
       "<style scoped>\n",
       "    .dataframe tbody tr th:only-of-type {\n",
       "        vertical-align: middle;\n",
       "    }\n",
       "\n",
       "    .dataframe tbody tr th {\n",
       "        vertical-align: top;\n",
       "    }\n",
       "\n",
       "    .dataframe thead th {\n",
       "        text-align: right;\n",
       "    }\n",
       "</style>\n",
       "<table border=\"1\" class=\"dataframe\">\n",
       "  <thead>\n",
       "    <tr style=\"text-align: right;\">\n",
       "      <th></th>\n",
       "      <th>note</th>\n",
       "      <th>avis</th>\n",
       "      <th>assureur</th>\n",
       "      <th>produit</th>\n",
       "      <th>type</th>\n",
       "      <th>date_publication</th>\n",
       "      <th>date_exp</th>\n",
       "      <th>avis_en</th>\n",
       "      <th>tokens</th>\n",
       "      <th>bigrams</th>\n",
       "    </tr>\n",
       "  </thead>\n",
       "  <tbody>\n",
       "    <tr>\n",
       "      <th>0</th>\n",
       "      <td>NaN</td>\n",
       "      <td>j'ai quitté mon ancien contrat d'assurance che...</td>\n",
       "      <td>Néoliane Santé</td>\n",
       "      <td>sante</td>\n",
       "      <td>test</td>\n",
       "      <td>12/01/2017</td>\n",
       "      <td>01/01/2017</td>\n",
       "      <td>I left my former insurance contract at General...</td>\n",
       "      <td>['left', 'former', 'insurance', 'contract', 'g...</td>\n",
       "      <td>['left_former', 'former_insurance', 'insurance...</td>\n",
       "    </tr>\n",
       "    <tr>\n",
       "      <th>1</th>\n",
       "      <td>NaN</td>\n",
       "      <td>j'ai souscrit à cette mutuelle l'année dernier...</td>\n",
       "      <td>Néoliane Santé</td>\n",
       "      <td>sante</td>\n",
       "      <td>test</td>\n",
       "      <td>09/01/2017</td>\n",
       "      <td>01/01/2017</td>\n",
       "      <td>I subscribed to this mutual a year last year a...</td>\n",
       "      <td>['subscribed', 'mutual', 'year', 'last', 'year...</td>\n",
       "      <td>['subscribed_mutual', 'mutual_year', 'year_las...</td>\n",
       "    </tr>\n",
       "    <tr>\n",
       "      <th>2</th>\n",
       "      <td>NaN</td>\n",
       "      <td>Impossible d'avoir le bon service , ils raccro...</td>\n",
       "      <td>Néoliane Santé</td>\n",
       "      <td>sante</td>\n",
       "      <td>test</td>\n",
       "      <td>24/11/2016</td>\n",
       "      <td>01/11/2016</td>\n",
       "      <td>Impossible to have the right service, they han...</td>\n",
       "      <td>['impossible', 'right', 'service', 'hang', 'no...</td>\n",
       "      <td>['impossible_right', 'right_service', 'service...</td>\n",
       "    </tr>\n",
       "    <tr>\n",
       "      <th>3</th>\n",
       "      <td>NaN</td>\n",
       "      <td>Génération est une mutuelle très chère pour un...</td>\n",
       "      <td>Génération</td>\n",
       "      <td>sante</td>\n",
       "      <td>test</td>\n",
       "      <td>09/11/2021</td>\n",
       "      <td>01/11/2021</td>\n",
       "      <td>Generation is a very expensive mutual for a re...</td>\n",
       "      <td>['generation', 'expensive', 'mutual', 'retiree...</td>\n",
       "      <td>['generation_expensive', 'expensive_mutual', '...</td>\n",
       "    </tr>\n",
       "    <tr>\n",
       "      <th>4</th>\n",
       "      <td>NaN</td>\n",
       "      <td>je viens d apprendre que je suis radié... j ap...</td>\n",
       "      <td>Génération</td>\n",
       "      <td>sante</td>\n",
       "      <td>test</td>\n",
       "      <td>08/11/2021</td>\n",
       "      <td>01/11/2021</td>\n",
       "      <td>I just learned that I am struck off ... I call...</td>\n",
       "      <td>['learned', 'struck', 'call', 'adviser', 'give...</td>\n",
       "      <td>['learned_struck', 'struck_call', 'call_advise...</td>\n",
       "    </tr>\n",
       "  </tbody>\n",
       "</table>\n",
       "</div>"
      ],
      "text/plain": [
       "   note                                               avis        assureur  \\\n",
       "0   NaN  j'ai quitté mon ancien contrat d'assurance che...  Néoliane Santé   \n",
       "1   NaN  j'ai souscrit à cette mutuelle l'année dernier...  Néoliane Santé   \n",
       "2   NaN  Impossible d'avoir le bon service , ils raccro...  Néoliane Santé   \n",
       "3   NaN  Génération est une mutuelle très chère pour un...      Génération   \n",
       "4   NaN  je viens d apprendre que je suis radié... j ap...      Génération   \n",
       "\n",
       "  produit  type date_publication    date_exp  \\\n",
       "0   sante  test       12/01/2017  01/01/2017   \n",
       "1   sante  test       09/01/2017  01/01/2017   \n",
       "2   sante  test       24/11/2016  01/11/2016   \n",
       "3   sante  test       09/11/2021  01/11/2021   \n",
       "4   sante  test       08/11/2021  01/11/2021   \n",
       "\n",
       "                                             avis_en  \\\n",
       "0  I left my former insurance contract at General...   \n",
       "1  I subscribed to this mutual a year last year a...   \n",
       "2  Impossible to have the right service, they han...   \n",
       "3  Generation is a very expensive mutual for a re...   \n",
       "4  I just learned that I am struck off ... I call...   \n",
       "\n",
       "                                              tokens  \\\n",
       "0  ['left', 'former', 'insurance', 'contract', 'g...   \n",
       "1  ['subscribed', 'mutual', 'year', 'last', 'year...   \n",
       "2  ['impossible', 'right', 'service', 'hang', 'no...   \n",
       "3  ['generation', 'expensive', 'mutual', 'retiree...   \n",
       "4  ['learned', 'struck', 'call', 'adviser', 'give...   \n",
       "\n",
       "                                             bigrams  \n",
       "0  ['left_former', 'former_insurance', 'insurance...  \n",
       "1  ['subscribed_mutual', 'mutual_year', 'year_las...  \n",
       "2  ['impossible_right', 'right_service', 'service...  \n",
       "3  ['generation_expensive', 'expensive_mutual', '...  \n",
       "4  ['learned_struck', 'struck_call', 'call_advise...  "
      ]
     },
     "execution_count": 4,
     "metadata": {},
     "output_type": "execute_result"
    }
   ],
   "source": [
    "df=pd.read_csv('test_set.csv')\n",
    "df.head(5)"
   ]
  },
  {
   "cell_type": "code",
   "execution_count": 5,
   "metadata": {},
   "outputs": [
    {
     "name": "stdout",
     "output_type": "stream",
     "text": [
      "I left my former insurance contract at General for the year to join the Néoliane group and I can say mastering after a year that the only thing that changes ... It's the price! I am assured in the same way and yet I pay 30% less per month this UQI over a year saves me a fortune. So remained assured today in the same proves that the only thing we earn are contributions of contributions. Tired of paying.\n"
     ]
    }
   ],
   "source": [
    "print(df['avis_en'][0])"
   ]
  },
  {
   "cell_type": "code",
   "execution_count": 10,
   "metadata": {},
   "outputs": [
    {
     "data": {
      "text/plain": [
       "\"J'ai quitté mon ancien contrat d'assurance à General pour l'année pour rejoindre le groupe Néoliane et je peux dire maîtriser après un an que la seule chose qui change ... C'est le prix! Je suis assuré de la même façon et pourtant je paye 30% moins par mois cette UQI sur un an me sauve une fortune.\""
      ]
     },
     "execution_count": 10,
     "metadata": {},
     "output_type": "execute_result"
    }
   ],
   "source": [
    "results=translation_pipeline(df['avis_en'][0])\n",
    "results[0]['translation_text']"
   ]
  },
  {
   "cell_type": "code",
   "execution_count": 6,
   "metadata": {},
   "outputs": [
    {
     "name": "stdout",
     "output_type": "stream",
     "text": [
      "j'ai quitté mon ancien contrat d'assurance chez Générali l'année derniere pour rejoindre le groupe Néoliane et je peux dire maitnenant après un an que la seule chose qui change... c'est le prix ! Je suis assuré de la même façon et pourtant je paye 30% de moins par mois ce uqi sur un an me fait économiser une fortune. Donc resté assuré aujourd'hui chez le même prouve bien que la seule chose que nous gagnons ce sont des hausses de cotisations. Marre de payer.\n"
     ]
    }
   ],
   "source": [
    "print(df['avis'][0])"
   ]
  }
 ],
 "metadata": {
  "kernelspec": {
   "display_name": "Python 3",
   "language": "python",
   "name": "python3"
  },
  "language_info": {
   "codemirror_mode": {
    "name": "ipython",
    "version": 3
   },
   "file_extension": ".py",
   "mimetype": "text/x-python",
   "name": "python",
   "nbconvert_exporter": "python",
   "pygments_lexer": "ipython3",
   "version": "3.11.1"
  }
 },
 "nbformat": 4,
 "nbformat_minor": 2
}
