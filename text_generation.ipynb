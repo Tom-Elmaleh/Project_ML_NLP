{
 "cells": [
  {
   "cell_type": "code",
   "execution_count": 1,
   "metadata": {},
   "outputs": [],
   "source": [
    "import pandas as pd\n",
    "from transformers import pipeline"
   ]
  },
  {
   "cell_type": "code",
   "execution_count": 2,
   "metadata": {},
   "outputs": [],
   "source": [
    "generator = pipeline(model=\"gpt2\")"
   ]
  },
  {
   "cell_type": "code",
   "execution_count": 3,
   "metadata": {},
   "outputs": [
    {
     "data": {
      "text/html": [
       "<div>\n",
       "<style scoped>\n",
       "    .dataframe tbody tr th:only-of-type {\n",
       "        vertical-align: middle;\n",
       "    }\n",
       "\n",
       "    .dataframe tbody tr th {\n",
       "        vertical-align: top;\n",
       "    }\n",
       "\n",
       "    .dataframe thead th {\n",
       "        text-align: right;\n",
       "    }\n",
       "</style>\n",
       "<table border=\"1\" class=\"dataframe\">\n",
       "  <thead>\n",
       "    <tr style=\"text-align: right;\">\n",
       "      <th></th>\n",
       "      <th>note</th>\n",
       "      <th>avis</th>\n",
       "      <th>assureur</th>\n",
       "      <th>produit</th>\n",
       "      <th>type</th>\n",
       "      <th>date_publication</th>\n",
       "      <th>date_exp</th>\n",
       "      <th>avis_en</th>\n",
       "      <th>tokens</th>\n",
       "      <th>bigrams</th>\n",
       "    </tr>\n",
       "  </thead>\n",
       "  <tbody>\n",
       "    <tr>\n",
       "      <th>0</th>\n",
       "      <td>NaN</td>\n",
       "      <td>j'ai quitté mon ancien contrat d'assurance che...</td>\n",
       "      <td>Néoliane Santé</td>\n",
       "      <td>sante</td>\n",
       "      <td>test</td>\n",
       "      <td>12/01/2017</td>\n",
       "      <td>01/01/2017</td>\n",
       "      <td>I left my former insurance contract at General...</td>\n",
       "      <td>['left', 'former', 'insurance', 'contract', 'g...</td>\n",
       "      <td>['left_former', 'former_insurance', 'insurance...</td>\n",
       "    </tr>\n",
       "    <tr>\n",
       "      <th>1</th>\n",
       "      <td>NaN</td>\n",
       "      <td>j'ai souscrit à cette mutuelle l'année dernier...</td>\n",
       "      <td>Néoliane Santé</td>\n",
       "      <td>sante</td>\n",
       "      <td>test</td>\n",
       "      <td>09/01/2017</td>\n",
       "      <td>01/01/2017</td>\n",
       "      <td>I subscribed to this mutual a year last year a...</td>\n",
       "      <td>['subscribed', 'mutual', 'year', 'last', 'year...</td>\n",
       "      <td>['subscribed_mutual', 'mutual_year', 'year_las...</td>\n",
       "    </tr>\n",
       "    <tr>\n",
       "      <th>2</th>\n",
       "      <td>NaN</td>\n",
       "      <td>Impossible d'avoir le bon service , ils raccro...</td>\n",
       "      <td>Néoliane Santé</td>\n",
       "      <td>sante</td>\n",
       "      <td>test</td>\n",
       "      <td>24/11/2016</td>\n",
       "      <td>01/11/2016</td>\n",
       "      <td>Impossible to have the right service, they han...</td>\n",
       "      <td>['impossible', 'right', 'service', 'hang', 'no...</td>\n",
       "      <td>['impossible_right', 'right_service', 'service...</td>\n",
       "    </tr>\n",
       "    <tr>\n",
       "      <th>3</th>\n",
       "      <td>NaN</td>\n",
       "      <td>Génération est une mutuelle très chère pour un...</td>\n",
       "      <td>Génération</td>\n",
       "      <td>sante</td>\n",
       "      <td>test</td>\n",
       "      <td>09/11/2021</td>\n",
       "      <td>01/11/2021</td>\n",
       "      <td>Generation is a very expensive mutual for a re...</td>\n",
       "      <td>['generation', 'expensive', 'mutual', 'retiree...</td>\n",
       "      <td>['generation_expensive', 'expensive_mutual', '...</td>\n",
       "    </tr>\n",
       "    <tr>\n",
       "      <th>4</th>\n",
       "      <td>NaN</td>\n",
       "      <td>je viens d apprendre que je suis radié... j ap...</td>\n",
       "      <td>Génération</td>\n",
       "      <td>sante</td>\n",
       "      <td>test</td>\n",
       "      <td>08/11/2021</td>\n",
       "      <td>01/11/2021</td>\n",
       "      <td>I just learned that I am struck off ... I call...</td>\n",
       "      <td>['learned', 'struck', 'call', 'adviser', 'give...</td>\n",
       "      <td>['learned_struck', 'struck_call', 'call_advise...</td>\n",
       "    </tr>\n",
       "  </tbody>\n",
       "</table>\n",
       "</div>"
      ],
      "text/plain": [
       "   note                                               avis        assureur  \\\n",
       "0   NaN  j'ai quitté mon ancien contrat d'assurance che...  Néoliane Santé   \n",
       "1   NaN  j'ai souscrit à cette mutuelle l'année dernier...  Néoliane Santé   \n",
       "2   NaN  Impossible d'avoir le bon service , ils raccro...  Néoliane Santé   \n",
       "3   NaN  Génération est une mutuelle très chère pour un...      Génération   \n",
       "4   NaN  je viens d apprendre que je suis radié... j ap...      Génération   \n",
       "\n",
       "  produit  type date_publication    date_exp  \\\n",
       "0   sante  test       12/01/2017  01/01/2017   \n",
       "1   sante  test       09/01/2017  01/01/2017   \n",
       "2   sante  test       24/11/2016  01/11/2016   \n",
       "3   sante  test       09/11/2021  01/11/2021   \n",
       "4   sante  test       08/11/2021  01/11/2021   \n",
       "\n",
       "                                             avis_en  \\\n",
       "0  I left my former insurance contract at General...   \n",
       "1  I subscribed to this mutual a year last year a...   \n",
       "2  Impossible to have the right service, they han...   \n",
       "3  Generation is a very expensive mutual for a re...   \n",
       "4  I just learned that I am struck off ... I call...   \n",
       "\n",
       "                                              tokens  \\\n",
       "0  ['left', 'former', 'insurance', 'contract', 'g...   \n",
       "1  ['subscribed', 'mutual', 'year', 'last', 'year...   \n",
       "2  ['impossible', 'right', 'service', 'hang', 'no...   \n",
       "3  ['generation', 'expensive', 'mutual', 'retiree...   \n",
       "4  ['learned', 'struck', 'call', 'adviser', 'give...   \n",
       "\n",
       "                                             bigrams  \n",
       "0  ['left_former', 'former_insurance', 'insurance...  \n",
       "1  ['subscribed_mutual', 'mutual_year', 'year_las...  \n",
       "2  ['impossible_right', 'right_service', 'service...  \n",
       "3  ['generation_expensive', 'expensive_mutual', '...  \n",
       "4  ['learned_struck', 'struck_call', 'call_advise...  "
      ]
     },
     "execution_count": 3,
     "metadata": {},
     "output_type": "execute_result"
    }
   ],
   "source": [
    "df=pd.read_csv('test_set.csv')\n",
    "df.head(5)"
   ]
  },
  {
   "cell_type": "code",
   "execution_count": 6,
   "metadata": {},
   "outputs": [
    {
     "name": "stderr",
     "output_type": "stream",
     "text": [
      "Setting `pad_token_id` to `eos_token_id`:50256 for open-end generation.\n"
     ]
    },
    {
     "data": {
      "text/plain": [
       "[{'generated_text': \" so much. It's so ridiculous. For a business based in the middle of nowhere, we're going to sue this company of ours that will pay this guy 30% off his rent, the company will pay this guy 10\"}]"
      ]
     },
     "execution_count": 6,
     "metadata": {},
     "output_type": "execute_result"
    }
   ],
   "source": [
    "generator('I hate this insurance company', num_return_sequences=1, return_full_text=False)"
   ]
  }
 ],
 "metadata": {
  "kernelspec": {
   "display_name": "Python 3",
   "language": "python",
   "name": "python3"
  },
  "language_info": {
   "codemirror_mode": {
    "name": "ipython",
    "version": 3
   },
   "file_extension": ".py",
   "mimetype": "text/x-python",
   "name": "python",
   "nbconvert_exporter": "python",
   "pygments_lexer": "ipython3",
   "version": "3.11.1"
  }
 },
 "nbformat": 4,
 "nbformat_minor": 2
}
