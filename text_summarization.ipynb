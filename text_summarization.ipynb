{
 "cells": [
  {
   "cell_type": "code",
   "execution_count": 1,
   "metadata": {},
   "outputs": [
    {
     "name": "stdout",
     "output_type": "stream",
     "text": [
      "Requirement already satisfied: transformers in /Library/Frameworks/Python.framework/Versions/3.11/lib/python3.11/site-packages (4.35.0)\n",
      "Requirement already satisfied: filelock in /Library/Frameworks/Python.framework/Versions/3.11/lib/python3.11/site-packages (from transformers) (3.13.1)\n",
      "Requirement already satisfied: huggingface-hub<1.0,>=0.16.4 in /Library/Frameworks/Python.framework/Versions/3.11/lib/python3.11/site-packages (from transformers) (0.17.3)\n",
      "Requirement already satisfied: numpy>=1.17 in /Library/Frameworks/Python.framework/Versions/3.11/lib/python3.11/site-packages (from transformers) (1.24.1)\n",
      "Requirement already satisfied: packaging>=20.0 in /Users/arnauddebrito/Library/Python/3.11/lib/python/site-packages (from transformers) (22.0)\n",
      "Requirement already satisfied: pyyaml>=5.1 in /Library/Frameworks/Python.framework/Versions/3.11/lib/python3.11/site-packages (from transformers) (6.0.1)\n",
      "Requirement already satisfied: regex!=2019.12.17 in /Library/Frameworks/Python.framework/Versions/3.11/lib/python3.11/site-packages (from transformers) (2023.8.8)\n",
      "Requirement already satisfied: requests in /Library/Frameworks/Python.framework/Versions/3.11/lib/python3.11/site-packages (from transformers) (2.31.0)\n",
      "Requirement already satisfied: tokenizers<0.15,>=0.14 in /Library/Frameworks/Python.framework/Versions/3.11/lib/python3.11/site-packages (from transformers) (0.14.1)\n",
      "Requirement already satisfied: safetensors>=0.3.1 in /Library/Frameworks/Python.framework/Versions/3.11/lib/python3.11/site-packages (from transformers) (0.4.0)\n",
      "Requirement already satisfied: tqdm>=4.27 in /Library/Frameworks/Python.framework/Versions/3.11/lib/python3.11/site-packages (from transformers) (4.66.1)\n",
      "Requirement already satisfied: fsspec in /Library/Frameworks/Python.framework/Versions/3.11/lib/python3.11/site-packages (from huggingface-hub<1.0,>=0.16.4->transformers) (2023.10.0)\n",
      "Requirement already satisfied: typing-extensions>=3.7.4.3 in /Library/Frameworks/Python.framework/Versions/3.11/lib/python3.11/site-packages (from huggingface-hub<1.0,>=0.16.4->transformers) (4.8.0)\n",
      "Requirement already satisfied: charset-normalizer<4,>=2 in /Library/Frameworks/Python.framework/Versions/3.11/lib/python3.11/site-packages (from requests->transformers) (3.0.1)\n",
      "Requirement already satisfied: idna<4,>=2.5 in /Library/Frameworks/Python.framework/Versions/3.11/lib/python3.11/site-packages (from requests->transformers) (3.4)\n",
      "Requirement already satisfied: urllib3<3,>=1.21.1 in /Library/Frameworks/Python.framework/Versions/3.11/lib/python3.11/site-packages (from requests->transformers) (1.26.13)\n",
      "Requirement already satisfied: certifi>=2017.4.17 in /Library/Frameworks/Python.framework/Versions/3.11/lib/python3.11/site-packages (from requests->transformers) (2022.12.7)\n",
      "\n",
      "\u001b[1m[\u001b[0m\u001b[34;49mnotice\u001b[0m\u001b[1;39;49m]\u001b[0m\u001b[39;49m A new release of pip available: \u001b[0m\u001b[31;49m22.3.1\u001b[0m\u001b[39;49m -> \u001b[0m\u001b[32;49m23.3.2\u001b[0m\n",
      "\u001b[1m[\u001b[0m\u001b[34;49mnotice\u001b[0m\u001b[1;39;49m]\u001b[0m\u001b[39;49m To update, run: \u001b[0m\u001b[32;49mpip3 install --upgrade pip\u001b[0m\n",
      "Note: you may need to restart the kernel to use updated packages.\n"
     ]
    }
   ],
   "source": [
    "%pip install transformers"
   ]
  },
  {
   "cell_type": "code",
   "execution_count": 5,
   "metadata": {},
   "outputs": [],
   "source": [
    "from transformers import pipeline\n",
    "import pandas as pd"
   ]
  },
  {
   "cell_type": "code",
   "execution_count": 3,
   "metadata": {},
   "outputs": [
    {
     "name": "stderr",
     "output_type": "stream",
     "text": [
      "No model was supplied, defaulted to sshleifer/distilbart-cnn-12-6 and revision a4f8f3e (https://huggingface.co/sshleifer/distilbart-cnn-12-6).\n",
      "Using a pipeline without specifying a model name and revision in production is not recommended.\n"
     ]
    },
    {
     "data": {
      "application/vnd.jupyter.widget-view+json": {
       "model_id": "8c807fdfaff04b5987920a56a319c9db",
       "version_major": 2,
       "version_minor": 0
      },
      "text/plain": [
       "Downloading config.json:   0%|          | 0.00/1.80k [00:00<?, ?B/s]"
      ]
     },
     "metadata": {},
     "output_type": "display_data"
    },
    {
     "data": {
      "application/vnd.jupyter.widget-view+json": {
       "model_id": "435b8a73725140c5b6ba73bac9925aac",
       "version_major": 2,
       "version_minor": 0
      },
      "text/plain": [
       "Downloading pytorch_model.bin:   0%|          | 0.00/1.22G [00:00<?, ?B/s]"
      ]
     },
     "metadata": {},
     "output_type": "display_data"
    },
    {
     "data": {
      "application/vnd.jupyter.widget-view+json": {
       "model_id": "e14a0368c50d47c4ada40ff29def3244",
       "version_major": 2,
       "version_minor": 0
      },
      "text/plain": [
       "Downloading tokenizer_config.json:   0%|          | 0.00/26.0 [00:00<?, ?B/s]"
      ]
     },
     "metadata": {},
     "output_type": "display_data"
    },
    {
     "data": {
      "application/vnd.jupyter.widget-view+json": {
       "model_id": "d2fe9fcb31f64ac080d0ae305de5271f",
       "version_major": 2,
       "version_minor": 0
      },
      "text/plain": [
       "Downloading vocab.json:   0%|          | 0.00/899k [00:00<?, ?B/s]"
      ]
     },
     "metadata": {},
     "output_type": "display_data"
    },
    {
     "data": {
      "application/vnd.jupyter.widget-view+json": {
       "model_id": "1814f98dc84640688eb072b153be249d",
       "version_major": 2,
       "version_minor": 0
      },
      "text/plain": [
       "Downloading merges.txt:   0%|          | 0.00/456k [00:00<?, ?B/s]"
      ]
     },
     "metadata": {},
     "output_type": "display_data"
    }
   ],
   "source": [
    "summarizer = pipeline(\"summarization\")"
   ]
  },
  {
   "cell_type": "code",
   "execution_count": 6,
   "metadata": {},
   "outputs": [
    {
     "data": {
      "text/html": [
       "<div>\n",
       "<style scoped>\n",
       "    .dataframe tbody tr th:only-of-type {\n",
       "        vertical-align: middle;\n",
       "    }\n",
       "\n",
       "    .dataframe tbody tr th {\n",
       "        vertical-align: top;\n",
       "    }\n",
       "\n",
       "    .dataframe thead th {\n",
       "        text-align: right;\n",
       "    }\n",
       "</style>\n",
       "<table border=\"1\" class=\"dataframe\">\n",
       "  <thead>\n",
       "    <tr style=\"text-align: right;\">\n",
       "      <th></th>\n",
       "      <th>note</th>\n",
       "      <th>avis</th>\n",
       "      <th>assureur</th>\n",
       "      <th>produit</th>\n",
       "      <th>type</th>\n",
       "      <th>date_publication</th>\n",
       "      <th>date_exp</th>\n",
       "      <th>avis_en</th>\n",
       "      <th>tokens</th>\n",
       "      <th>bigrams</th>\n",
       "    </tr>\n",
       "  </thead>\n",
       "  <tbody>\n",
       "    <tr>\n",
       "      <th>0</th>\n",
       "      <td>NaN</td>\n",
       "      <td>j'ai quitté mon ancien contrat d'assurance che...</td>\n",
       "      <td>Néoliane Santé</td>\n",
       "      <td>sante</td>\n",
       "      <td>test</td>\n",
       "      <td>12/01/2017</td>\n",
       "      <td>01/01/2017</td>\n",
       "      <td>I left my former insurance contract at General...</td>\n",
       "      <td>['left', 'former', 'insurance', 'contract', 'g...</td>\n",
       "      <td>['left_former', 'former_insurance', 'insurance...</td>\n",
       "    </tr>\n",
       "    <tr>\n",
       "      <th>1</th>\n",
       "      <td>NaN</td>\n",
       "      <td>j'ai souscrit à cette mutuelle l'année dernier...</td>\n",
       "      <td>Néoliane Santé</td>\n",
       "      <td>sante</td>\n",
       "      <td>test</td>\n",
       "      <td>09/01/2017</td>\n",
       "      <td>01/01/2017</td>\n",
       "      <td>I subscribed to this mutual a year last year a...</td>\n",
       "      <td>['subscribed', 'mutual', 'year', 'last', 'year...</td>\n",
       "      <td>['subscribed_mutual', 'mutual_year', 'year_las...</td>\n",
       "    </tr>\n",
       "    <tr>\n",
       "      <th>2</th>\n",
       "      <td>NaN</td>\n",
       "      <td>Impossible d'avoir le bon service , ils raccro...</td>\n",
       "      <td>Néoliane Santé</td>\n",
       "      <td>sante</td>\n",
       "      <td>test</td>\n",
       "      <td>24/11/2016</td>\n",
       "      <td>01/11/2016</td>\n",
       "      <td>Impossible to have the right service, they han...</td>\n",
       "      <td>['impossible', 'right', 'service', 'hang', 'no...</td>\n",
       "      <td>['impossible_right', 'right_service', 'service...</td>\n",
       "    </tr>\n",
       "    <tr>\n",
       "      <th>3</th>\n",
       "      <td>NaN</td>\n",
       "      <td>Génération est une mutuelle très chère pour un...</td>\n",
       "      <td>Génération</td>\n",
       "      <td>sante</td>\n",
       "      <td>test</td>\n",
       "      <td>09/11/2021</td>\n",
       "      <td>01/11/2021</td>\n",
       "      <td>Generation is a very expensive mutual for a re...</td>\n",
       "      <td>['generation', 'expensive', 'mutual', 'retiree...</td>\n",
       "      <td>['generation_expensive', 'expensive_mutual', '...</td>\n",
       "    </tr>\n",
       "    <tr>\n",
       "      <th>4</th>\n",
       "      <td>NaN</td>\n",
       "      <td>je viens d apprendre que je suis radié... j ap...</td>\n",
       "      <td>Génération</td>\n",
       "      <td>sante</td>\n",
       "      <td>test</td>\n",
       "      <td>08/11/2021</td>\n",
       "      <td>01/11/2021</td>\n",
       "      <td>I just learned that I am struck off ... I call...</td>\n",
       "      <td>['learned', 'struck', 'call', 'adviser', 'give...</td>\n",
       "      <td>['learned_struck', 'struck_call', 'call_advise...</td>\n",
       "    </tr>\n",
       "  </tbody>\n",
       "</table>\n",
       "</div>"
      ],
      "text/plain": [
       "   note                                               avis        assureur  \\\n",
       "0   NaN  j'ai quitté mon ancien contrat d'assurance che...  Néoliane Santé   \n",
       "1   NaN  j'ai souscrit à cette mutuelle l'année dernier...  Néoliane Santé   \n",
       "2   NaN  Impossible d'avoir le bon service , ils raccro...  Néoliane Santé   \n",
       "3   NaN  Génération est une mutuelle très chère pour un...      Génération   \n",
       "4   NaN  je viens d apprendre que je suis radié... j ap...      Génération   \n",
       "\n",
       "  produit  type date_publication    date_exp  \\\n",
       "0   sante  test       12/01/2017  01/01/2017   \n",
       "1   sante  test       09/01/2017  01/01/2017   \n",
       "2   sante  test       24/11/2016  01/11/2016   \n",
       "3   sante  test       09/11/2021  01/11/2021   \n",
       "4   sante  test       08/11/2021  01/11/2021   \n",
       "\n",
       "                                             avis_en  \\\n",
       "0  I left my former insurance contract at General...   \n",
       "1  I subscribed to this mutual a year last year a...   \n",
       "2  Impossible to have the right service, they han...   \n",
       "3  Generation is a very expensive mutual for a re...   \n",
       "4  I just learned that I am struck off ... I call...   \n",
       "\n",
       "                                              tokens  \\\n",
       "0  ['left', 'former', 'insurance', 'contract', 'g...   \n",
       "1  ['subscribed', 'mutual', 'year', 'last', 'year...   \n",
       "2  ['impossible', 'right', 'service', 'hang', 'no...   \n",
       "3  ['generation', 'expensive', 'mutual', 'retiree...   \n",
       "4  ['learned', 'struck', 'call', 'adviser', 'give...   \n",
       "\n",
       "                                             bigrams  \n",
       "0  ['left_former', 'former_insurance', 'insurance...  \n",
       "1  ['subscribed_mutual', 'mutual_year', 'year_las...  \n",
       "2  ['impossible_right', 'right_service', 'service...  \n",
       "3  ['generation_expensive', 'expensive_mutual', '...  \n",
       "4  ['learned_struck', 'struck_call', 'call_advise...  "
      ]
     },
     "execution_count": 6,
     "metadata": {},
     "output_type": "execute_result"
    }
   ],
   "source": [
    "df=pd.read_csv('test_set.csv')\n",
    "df.head(5)"
   ]
  },
  {
   "cell_type": "code",
   "execution_count": 10,
   "metadata": {},
   "outputs": [
    {
     "name": "stdout",
     "output_type": "stream",
     "text": [
      "j'ai quitté mon ancien contrat d'assurance chez Générali l'année derniere pour rejoindre le groupe Néoliane et je peux dire maitnenant après un an que la seule chose qui change... c'est le prix ! Je suis assuré de la même façon et pourtant je paye 30% de moins par mois ce uqi sur un an me fait économiser une fortune. Donc resté assuré aujourd'hui chez le même prouve bien que la seule chose que nous gagnons ce sont des hausses de cotisations. Marre de payer.\n"
     ]
    }
   ],
   "source": [
    "print(df['avis'][0])"
   ]
  },
  {
   "cell_type": "code",
   "execution_count": 12,
   "metadata": {},
   "outputs": [
    {
     "data": {
      "text/plain": [
       "[{'summary_text': \" Jean-Claude pays 30% de moins aujourd'hui chez le groupe Néoliane .\"}]"
      ]
     },
     "execution_count": 12,
     "metadata": {},
     "output_type": "execute_result"
    }
   ],
   "source": [
    "summarizer(df['avis'][0], max_length=30, min_length=10, do_sample=False)"
   ]
  }
 ],
 "metadata": {
  "kernelspec": {
   "display_name": "Python 3",
   "language": "python",
   "name": "python3"
  },
  "language_info": {
   "codemirror_mode": {
    "name": "ipython",
    "version": 3
   },
   "file_extension": ".py",
   "mimetype": "text/x-python",
   "name": "python",
   "nbconvert_exporter": "python",
   "pygments_lexer": "ipython3",
   "version": "3.11.1"
  }
 },
 "nbformat": 4,
 "nbformat_minor": 2
}
